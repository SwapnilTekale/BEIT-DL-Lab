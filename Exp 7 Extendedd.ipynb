{
 "cells": [
  {
   "cell_type": "markdown",
   "id": "4d15e9f9-6ced-44d0-acf4-235194aa7ce3",
   "metadata": {},
   "source": [
    "6. Object detection using Transfer Learning of CNN architectures\n",
    "<br>\n",
    "a. Load in a pre-trained CNN model trained on a large dataset\n",
    "<br>\n",
    "b. Freeze parameters (weights) in model’s lower convolutional layers\n",
    "<br>\n",
    "c. Add custom classifier with several layers of trainable parameters to model\n",
    "<br>\n",
    "d. Train classifier layers on training data available for task\n",
    "<br>\n",
    "e. Fine-tune hyper parameters and unfreeze more layers as needed"
   ]
  },
  {
   "cell_type": "code",
   "execution_count": 1,
   "id": "31c2e651-8075-41a1-b996-30bca14f1627",
   "metadata": {},
   "outputs": [
    {
     "name": "stderr",
     "output_type": "stream",
     "text": [
      "D:\\Anaconda\\lib\\site-packages\\scipy\\__init__.py:146: UserWarning: A NumPy version >=1.16.5 and <1.23.0 is required for this version of SciPy (detected version 1.26.1\n",
      "  warnings.warn(f\"A NumPy version >={np_minversion} and <{np_maxversion}\"\n"
     ]
    }
   ],
   "source": [
    "import tensorflow as tf\n",
    "from tensorflow import keras\n",
    "from tensorflow.keras.applications import VGG16\n",
    "from tensorflow.keras.models import Model\n",
    "from tensorflow.keras.layers import Dense, Flatten\n",
    "from tensorflow.keras.optimizers import Adam\n",
    "from tensorflow.keras.preprocessing.image import ImageDataGenerator\n",
    "import numpy as np"
   ]
  },
  {
   "cell_type": "markdown",
   "id": "203d03af-e7eb-406f-b9dc-9dad72072a3f",
   "metadata": {},
   "source": [
    "#### Pre processing img data "
   ]
  },
  {
   "cell_type": "code",
   "execution_count": 6,
   "id": "bae4a153-6f00-4265-add9-35904409dd72",
   "metadata": {},
   "outputs": [
    {
     "name": "stdout",
     "output_type": "stream",
     "text": [
      "Found 9144 images belonging to 102 classes.\n"
     ]
    }
   ],
   "source": [
    "dataset_dir = \"C:\\\\Users\\\\swapn\\\\Desktop\\\\caltech-101\\\\caltech-101\\\\101_ObjectCategories\\\\101_ObjectCategories\"\n",
    "dataset_datagen = ImageDataGenerator(\n",
    "    rescale=1.0 / 255,\n",
    ")\n",
    "\n",
    "# here batch_size is the number of images in each batch\n",
    "batch_size = 2000\n",
    "dataset_generator = dataset_datagen.flow_from_directory(\n",
    "    dataset_dir,\n",
    "    target_size=(64, 64),\n",
    "    batch_size=batch_size,\n",
    "    class_mode='categorical'\n",
    ")"
   ]
  },
  {
   "cell_type": "markdown",
   "id": "4609c200-c5fc-4067-b3b3-bd8b7226e27d",
   "metadata": {},
   "source": [
    "#### Selecting first batch containing 2000 images as train and second batch containing 2000 images as test data"
   ]
  },
  {
   "cell_type": "code",
   "execution_count": 7,
   "id": "b4369f09-67f5-4f91-a6f2-971ed179dea9",
   "metadata": {},
   "outputs": [
    {
     "name": "stdout",
     "output_type": "stream",
     "text": [
      "2000\n",
      "2000\n"
     ]
    }
   ],
   "source": [
    "x_train, y_train =  dataset_generator[0]\n",
    "x_test, y_test = dataset_generator[1]\n",
    "\n",
    "print(len(x_train))\n",
    "print(len(x_test))"
   ]
  },
  {
   "cell_type": "markdown",
   "id": "9db56097-894f-44a2-8b54-8241acd0dea9",
   "metadata": {},
   "source": [
    "#### a. Load in a pre-trained CNN model trained on a large dataset"
   ]
  },
  {
   "cell_type": "code",
   "execution_count": 9,
   "id": "3e80ede0-af89-4fd0-b431-191d5f6401d4",
   "metadata": {},
   "outputs": [],
   "source": [
    "# Load VGG16 without top layers\n",
    "weights_path = \"C:\\\\Users\\\\swapn\\\\Desktop\\\\vgg16_weights_tf_dim_ordering_tf_kernels_notop.h5\"\n",
    "base_model = VGG16(weights=weights_path, include_top=False, input_shape=(64, 64, 3))"
   ]
  },
  {
   "cell_type": "markdown",
   "id": "8dfc0b6a-99ae-4197-aae2-288d54241ce4",
   "metadata": {},
   "source": [
    "#### b. Freeze parameters (weights) in model’s lower convolutional layers"
   ]
  },
  {
   "cell_type": "code",
   "execution_count": 10,
   "id": "b64173b6-f973-416d-95a5-bfb158f9aa11",
   "metadata": {},
   "outputs": [],
   "source": [
    "for layer in base_model.layers:\n",
    "   layer.trainable = False"
   ]
  },
  {
   "cell_type": "markdown",
   "id": "324ff8f4-4cb4-451e-a72b-3f35ee41f600",
   "metadata": {},
   "source": [
    "#### c. Add custom classifier with several layers of trainable parameters to model"
   ]
  },
  {
   "cell_type": "code",
   "execution_count": 11,
   "id": "e44e9909-36b2-48cb-8470-1e6648a229a2",
   "metadata": {},
   "outputs": [],
   "source": [
    "x = Flatten()(base_model.output)\n",
    "x = Dense(64, activation='relu')(x)\n",
    "predictions = Dense(102, activation='softmax')(x)\n",
    "\n",
    "# Create the model\n",
    "model = Model(inputs=base_model.input, outputs=predictions)\n",
    "# Compile the model\n",
    "model.compile(optimizer=\"adam\", loss='categorical_crossentropy', metrics=['accuracy'])"
   ]
  },
  {
   "cell_type": "markdown",
   "id": "af0aac27-8b92-4f9d-a43a-af5633d440b8",
   "metadata": {},
   "source": [
    "#### d. Train classifier layers on training data available for task"
   ]
  },
  {
   "cell_type": "code",
   "execution_count": 12,
   "id": "3ce936f9-8497-4be8-877b-63d8f7c27885",
   "metadata": {},
   "outputs": [
    {
     "name": "stdout",
     "output_type": "stream",
     "text": [
      "Epoch 1/10\n",
      "32/32 [==============================] - 58s 2s/step - loss: 3.9413 - accuracy: 0.1745 - val_loss: 3.3885 - val_accuracy: 0.2905\n",
      "Epoch 2/10\n",
      "32/32 [==============================] - 34s 1s/step - loss: 3.0589 - accuracy: 0.3465 - val_loss: 2.9787 - val_accuracy: 0.3885\n",
      "Epoch 3/10\n",
      "32/32 [==============================] - 36s 1s/step - loss: 2.5635 - accuracy: 0.4470 - val_loss: 2.6377 - val_accuracy: 0.4510\n",
      "Epoch 4/10\n",
      "32/32 [==============================] - 39s 1s/step - loss: 2.1463 - accuracy: 0.5360 - val_loss: 2.3988 - val_accuracy: 0.4960\n",
      "Epoch 5/10\n",
      "32/32 [==============================] - 41s 1s/step - loss: 1.8361 - accuracy: 0.5955 - val_loss: 2.2339 - val_accuracy: 0.5155\n",
      "Epoch 6/10\n",
      "32/32 [==============================] - 41s 1s/step - loss: 1.5915 - accuracy: 0.6560 - val_loss: 2.1010 - val_accuracy: 0.5395\n",
      "Epoch 7/10\n",
      "32/32 [==============================] - 42s 1s/step - loss: 1.4001 - accuracy: 0.6965 - val_loss: 2.0050 - val_accuracy: 0.5530\n",
      "Epoch 8/10\n",
      "32/32 [==============================] - 43s 1s/step - loss: 1.2380 - accuracy: 0.7295 - val_loss: 1.9382 - val_accuracy: 0.5660\n",
      "Epoch 9/10\n",
      "32/32 [==============================] - 44s 1s/step - loss: 1.0994 - accuracy: 0.7650 - val_loss: 1.8808 - val_accuracy: 0.5665\n",
      "Epoch 10/10\n",
      "32/32 [==============================] - 46s 1s/step - loss: 0.9917 - accuracy: 0.7810 - val_loss: 1.8553 - val_accuracy: 0.5685\n"
     ]
    },
    {
     "data": {
      "text/plain": [
       "<keras.src.callbacks.History at 0x15461483b20>"
      ]
     },
     "execution_count": 12,
     "metadata": {},
     "output_type": "execute_result"
    }
   ],
   "source": [
    "# Train the model\n",
    "model.fit(x_train, y_train, batch_size=64, epochs=10, validation_data=(x_test, y_test))"
   ]
  },
  {
   "cell_type": "markdown",
   "id": "521fc40f-4c47-462f-8965-9026bdb98edb",
   "metadata": {},
   "source": [
    "#### e. Fine-tune hyper parameters and unfreeze more layers as needed"
   ]
  },
  {
   "cell_type": "code",
   "execution_count": 13,
   "id": "c1d6efc6-3209-4586-8947-385a0120f861",
   "metadata": {},
   "outputs": [
    {
     "name": "stdout",
     "output_type": "stream",
     "text": [
      "Epoch 1/10\n",
      "32/32 [==============================] - 36s 1s/step - loss: 3.0579 - accuracy: 0.3730 - val_loss: 2.3039 - val_accuracy: 0.4850\n",
      "Epoch 2/10\n",
      "32/32 [==============================] - 43s 1s/step - loss: 1.7377 - accuracy: 0.5810 - val_loss: 1.9004 - val_accuracy: 0.5550\n",
      "Epoch 3/10\n",
      "32/32 [==============================] - 43s 1s/step - loss: 1.1640 - accuracy: 0.6885 - val_loss: 1.6846 - val_accuracy: 0.6035\n",
      "Epoch 4/10\n",
      "32/32 [==============================] - 44s 1s/step - loss: 0.7321 - accuracy: 0.7980 - val_loss: 1.6753 - val_accuracy: 0.6235\n",
      "Epoch 5/10\n",
      "32/32 [==============================] - 44s 1s/step - loss: 0.4734 - accuracy: 0.8670 - val_loss: 1.7102 - val_accuracy: 0.6245\n",
      "Epoch 6/10\n",
      "32/32 [==============================] - 44s 1s/step - loss: 0.2408 - accuracy: 0.9350 - val_loss: 1.6814 - val_accuracy: 0.6485\n",
      "Epoch 7/10\n",
      "32/32 [==============================] - 44s 1s/step - loss: 0.1532 - accuracy: 0.9615 - val_loss: 1.7136 - val_accuracy: 0.6460\n",
      "Epoch 8/10\n",
      "32/32 [==============================] - 44s 1s/step - loss: 0.1343 - accuracy: 0.9655 - val_loss: 1.7773 - val_accuracy: 0.6460\n",
      "Epoch 9/10\n",
      "32/32 [==============================] - 45s 1s/step - loss: 0.0874 - accuracy: 0.9780 - val_loss: 1.7698 - val_accuracy: 0.6450\n",
      "Epoch 10/10\n",
      "32/32 [==============================] - 44s 1s/step - loss: 0.0693 - accuracy: 0.9840 - val_loss: 1.8022 - val_accuracy: 0.6495\n"
     ]
    },
    {
     "data": {
      "text/plain": [
       "<keras.src.callbacks.History at 0x1540105d1f0>"
      ]
     },
     "execution_count": 13,
     "metadata": {},
     "output_type": "execute_result"
    }
   ],
   "source": [
    "base_model = VGG16(weights=weights_path, include_top=False, input_shape=(64, 64, 3))\n",
    "# freeze all layers first\n",
    "for layer in base_model.layers:\n",
    "   layer.trainable = False\n",
    "# unfreeze last 4 layers of base model\n",
    "for layer in base_model.layers[len(base_model.layers) - 2:]:\n",
    "   layer.trainable = True\n",
    "# fine-tuning hyper parameters\n",
    "x = Flatten()(base_model.output)\n",
    "x = Dense(512, activation='relu')(x)\n",
    "x = tf.keras.layers.Dropout(0.3)(x)\n",
    "predictions = Dense(102, activation='softmax')(x)\n",
    "\n",
    "# Create the model\n",
    "model = Model(inputs=base_model.input, outputs=predictions)\n",
    "# Compile the model\n",
    "model.compile(optimizer=Adam(learning_rate=0.001), loss='categorical_crossentropy', metrics=['accuracy'])\n",
    "# training fine tuned model\n",
    "model.fit(x_train, y_train, batch_size=64, epochs=10, validation_data=(x_test, y_test))"
   ]
  },
  {
   "cell_type": "code",
   "execution_count": 14,
   "id": "fc035871-ca9a-4c0e-9204-d999e14c53c8",
   "metadata": {},
   "outputs": [
    {
     "name": "stdout",
     "output_type": "stream",
     "text": [
      "63/63 [==============================] - 18s 282ms/step\n"
     ]
    }
   ],
   "source": [
    "import matplotlib.pyplot as plt\n",
    "predicted_value = model.predict(x_test)"
   ]
  },
  {
   "cell_type": "code",
   "execution_count": 15,
   "id": "3637d2e8-05ea-4e4d-a38b-b2c1ca6c76be",
   "metadata": {},
   "outputs": [],
   "source": [
    "labels = list(dataset_generator.class_indices.keys())"
   ]
  },
  {
   "cell_type": "code",
   "execution_count": 17,
   "id": "6d4825f5-8e54-47a9-ab3b-57e55c9d11f4",
   "metadata": {},
   "outputs": [
    {
     "name": "stdout",
     "output_type": "stream",
     "text": [
      "Preditcted:  llama\n",
      "Actual:  crocodile\n"
     ]
    },
    {
     "data": {
      "image/png": "[encoded data removed]",
      "text/plain": [
       "<Figure size 432x288 with 1 Axes>"
      ]
     },
     "metadata": {
      "needs_background": "light"
     },
     "output_type": "display_data"
    }
   ],
   "source": [
    "n = 1000\n",
    "plt.imshow(x_test[n])\n",
    "print(\"Preditcted: \",labels[np.argmax(predicted_value[n])])\n",
    "print(\"Actual: \", labels[np.argmax(y_test[n])])"
   ]
  },
  {
   "cell_type": "code",
   "execution_count": null,
   "id": "17ec07e4",
   "metadata": {},
   "outputs": [],
   "source": []
  }
 ],
 "metadata": {
  "kernelspec": {
   "display_name": "Python 3 (ipykernel)",
   "language": "python",
   "name": "python3"
  },
  "language_info": {
   "codemirror_mode": {
    "name": "ipython",
    "version": 3
   },
   "file_extension": ".py",
   "mimetype": "text/x-python",
   "name": "python",
   "nbconvert_exporter": "python",
   "pygments_lexer": "ipython3",
   "version": "3.9.12"
  }
 },
 "nbformat": 4,
 "nbformat_minor": 5
}
